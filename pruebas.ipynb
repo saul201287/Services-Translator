{
 "cells": [
  {
   "cell_type": "code",
   "execution_count": 1,
   "id": "6637a76d",
   "metadata": {},
   "outputs": [
    {
     "name": "stdout",
     "output_type": "stream",
     "text": [
      "['data', 'index.py', 'pruebas.ipynb', 'venv']\n"
     ]
    }
   ],
   "source": [
    "import os\n",
    "folders = os.listdir()\n",
    "print(folders)"
   ]
  },
  {
   "cell_type": "code",
   "execution_count": null,
   "id": "418431d7",
   "metadata": {},
   "outputs": [
    {
     "name": "stdout",
     "output_type": "stream",
     "text": [
      "data\n",
      "['dataset_zapoteco.json', 'dataset_zapoteco_basico.csv']\n"
     ]
    }
   ],
   "source": [
    "data_path = folders[0]\n",
    "print(data_path)\n",
    "files = os.listdir(os.path.join(data_path))\n",
    "print(files)"
   ]
  },
  {
   "cell_type": "code",
   "execution_count": 8,
   "id": "1e06e489",
   "metadata": {},
   "outputs": [
    {
     "data": {
      "text/html": [
       "<div>\n",
       "<style scoped>\n",
       "    .dataframe tbody tr th:only-of-type {\n",
       "        vertical-align: middle;\n",
       "    }\n",
       "\n",
       "    .dataframe tbody tr th {\n",
       "        vertical-align: top;\n",
       "    }\n",
       "\n",
       "    .dataframe thead th {\n",
       "        text-align: right;\n",
       "    }\n",
       "</style>\n",
       "<table border=\"1\" class=\"dataframe\">\n",
       "  <thead>\n",
       "    <tr style=\"text-align: right;\">\n",
       "      <th></th>\n",
       "      <th>zapoteco</th>\n",
       "      <th>español</th>\n",
       "    </tr>\n",
       "  </thead>\n",
       "  <tbody>\n",
       "    <tr>\n",
       "      <th>0</th>\n",
       "      <td>abati'</td>\n",
       "      <td>ninguna parte</td>\n",
       "    </tr>\n",
       "    <tr>\n",
       "      <th>1</th>\n",
       "      <td>adxagayá'</td>\n",
       "      <td>payasada, tontería</td>\n",
       "    </tr>\n",
       "    <tr>\n",
       "      <th>2</th>\n",
       "      <td>adxé</td>\n",
       "      <td>diferente, distinto</td>\n",
       "    </tr>\n",
       "    <tr>\n",
       "      <th>3</th>\n",
       "      <td>aguxa'</td>\n",
       "      <td>aguja</td>\n",
       "    </tr>\n",
       "    <tr>\n",
       "      <th>4</th>\n",
       "      <td>amá</td>\n",
       "      <td>mamá</td>\n",
       "    </tr>\n",
       "  </tbody>\n",
       "</table>\n",
       "</div>"
      ],
      "text/plain": [
       "    zapoteco              español\n",
       "0     abati'        ninguna parte\n",
       "1  adxagayá'   payasada, tontería\n",
       "2       adxé  diferente, distinto\n",
       "3     aguxa'                aguja\n",
       "4        amá                 mamá"
      ]
     },
     "execution_count": 8,
     "metadata": {},
     "output_type": "execute_result"
    }
   ],
   "source": [
    "import pandas as pd\n",
    "current_folder = folders[0]\n",
    "current_file = files[1]\n",
    "df = pd.read_csv(os.path.join(current_folder,current_file), encoding='utf-8')\n",
    "df.head()"
   ]
  }
 ],
 "metadata": {
  "kernelspec": {
   "display_name": "venv",
   "language": "python",
   "name": "python3"
  },
  "language_info": {
   "codemirror_mode": {
    "name": "ipython",
    "version": 3
   },
   "file_extension": ".py",
   "mimetype": "text/x-python",
   "name": "python",
   "nbconvert_exporter": "python",
   "pygments_lexer": "ipython3",
   "version": "3.10.11"
  }
 },
 "nbformat": 4,
 "nbformat_minor": 5
}
